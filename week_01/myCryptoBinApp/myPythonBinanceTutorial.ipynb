{
 "cells": [
  {
   "cell_type": "markdown",
   "id": "3e9c14c6",
   "metadata": {
    "slideshow": {
     "slide_type": "slide"
    }
   },
   "source": [
    "# Building a Python Binance App by Trial & Error"
   ]
  },
  {
   "cell_type": "markdown",
   "id": "38d1cab4",
   "metadata": {
    "slideshow": {
     "slide_type": "slide"
    }
   },
   "source": [
    "### Import required modules"
   ]
  },
  {
   "cell_type": "code",
   "execution_count": 1,
   "id": "73cd57de",
   "metadata": {
    "slideshow": {
     "slide_type": "fragment"
    }
   },
   "outputs": [],
   "source": [
    "from pandas import DataFrame as df\n",
    "from binance.client import Client\n",
    "from datetime import datetime\n",
    "import llaves"
   ]
  },
  {
   "cell_type": "markdown",
   "id": "4e1d2352",
   "metadata": {},
   "source": [
    "It is recessary to create a file named \"llaves.py\" in order to include your public and secret keys:\n",
    "\n",
    "> #pKey = 'abcdefghijklmnoprstuvwxyz'\n",
    "\n",
    "> #sKey = '0123456789'\n",
    "\n",
    "This values are created/obtained in the \"User Center >> API Management\" section in yor Binance account."
   ]
  },
  {
   "cell_type": "markdown",
   "id": "d524a6d6",
   "metadata": {},
   "source": [
    "### Initialize the client"
   ]
  },
  {
   "cell_type": "code",
   "execution_count": 2,
   "id": "067f5ad6",
   "metadata": {},
   "outputs": [],
   "source": [
    "client = Client(api_key=llaves.pKey, api_secret=llaves.sKey)"
   ]
  },
  {
   "cell_type": "markdown",
   "id": "107bc9c1",
   "metadata": {},
   "source": [
    "### (Un)comment if you want to test the connection"
   ]
  },
  {
   "cell_type": "code",
   "execution_count": 3,
   "id": "e2d1401d",
   "metadata": {},
   "outputs": [],
   "source": [
    "# client.ping()\n",
    "# time_res = client.get_server_time()\n",
    "# print(time_res)\n",
    "# status = client.get_system_status()\n",
    "# print(status)\n",
    "# info = client.get_exchange_info()\n",
    "# print(info)\n",
    "# info = client.get_symbol_info('BTCUSDT')\n",
    "# print(info)"
   ]
  },
  {
   "cell_type": "code",
   "execution_count": 4,
   "id": "0700dc66",
   "metadata": {},
   "outputs": [],
   "source": [
    "candles = client.get_klines(symbol='BTCUSDT', interval=Client.KLINE_INTERVAL_1WEEK)"
   ]
  },
  {
   "cell_type": "code",
   "execution_count": 5,
   "id": "32c5a3ad",
   "metadata": {},
   "outputs": [],
   "source": [
    "candles_df = df(candles)\n",
    "# print(candles_df)"
   ]
  },
  {
   "cell_type": "code",
   "execution_count": 6,
   "id": "6fd3e06e",
   "metadata": {},
   "outputs": [
    {
     "data": {
      "text/plain": [
       "[1621209600000,\n",
       " '46426.83000000',\n",
       " '46686.00000000',\n",
       " '30000.00000000',\n",
       " '32786.74000000',\n",
       " '1364744.36531300',\n",
       " 1621814399999,\n",
       " '53116396549.13622989',\n",
       " 26593413,\n",
       " '655954.37150500',\n",
       " '25553542730.32767802',\n",
       " '0']"
      ]
     },
     "execution_count": 6,
     "metadata": {},
     "output_type": "execute_result"
    }
   ],
   "source": [
    "candles[-1]"
   ]
  },
  {
   "cell_type": "markdown",
   "id": "cf648f1f",
   "metadata": {},
   "source": [
    "We take the first column only. This column contans the timestamp in Binance format"
   ]
  },
  {
   "cell_type": "code",
   "execution_count": 7,
   "id": "aba9243a",
   "metadata": {},
   "outputs": [],
   "source": [
    "candles_df_date = candles_df[0]"
   ]
  },
  {
   "cell_type": "code",
   "execution_count": 8,
   "id": "413b86f9",
   "metadata": {},
   "outputs": [],
   "source": [
    "final_date = []"
   ]
  },
  {
   "cell_type": "code",
   "execution_count": 9,
   "id": "64e35bcb",
   "metadata": {},
   "outputs": [],
   "source": [
    "for time in candles_df_date:\n",
    "    readable = datetime.fromtimestamp(int(time/1000))\n",
    "    final_date.append(readable)"
   ]
  },
  {
   "cell_type": "code",
   "execution_count": 10,
   "id": "d9ca1c90",
   "metadata": {},
   "outputs": [
    {
     "data": {
      "text/plain": [
       "197"
      ]
     },
     "execution_count": 10,
     "metadata": {},
     "output_type": "execute_result"
    }
   ],
   "source": [
    "len(final_date)"
   ]
  },
  {
   "cell_type": "code",
   "execution_count": 11,
   "id": "c0258148",
   "metadata": {},
   "outputs": [
    {
     "data": {
      "text/plain": [
       "0      10125.41408414\n",
       "1      11456.95307303\n",
       "2      12653.02927308\n",
       "3      10431.32749057\n",
       "4       8391.64647834\n",
       "            ...      \n",
       "192                 0\n",
       "193                 0\n",
       "194                 0\n",
       "195                 0\n",
       "196                 0\n",
       "Name: 11, Length: 197, dtype: object"
      ]
     },
     "execution_count": 11,
     "metadata": {},
     "output_type": "execute_result"
    }
   ],
   "source": [
    "candles_df.pop(0)\n",
    "candles_df.pop(11)"
   ]
  },
  {
   "cell_type": "code",
   "execution_count": 13,
   "id": "4ed0669f",
   "metadata": {},
   "outputs": [],
   "source": [
    "final_date_df = df(final_date)"
   ]
  },
  {
   "cell_type": "code",
   "execution_count": 14,
   "id": "14217d13",
   "metadata": {},
   "outputs": [
    {
     "data": {
      "text/html": [
       "<div>\n",
       "<style scoped>\n",
       "    .dataframe tbody tr th:only-of-type {\n",
       "        vertical-align: middle;\n",
       "    }\n",
       "\n",
       "    .dataframe tbody tr th {\n",
       "        vertical-align: top;\n",
       "    }\n",
       "\n",
       "    .dataframe thead th {\n",
       "        text-align: right;\n",
       "    }\n",
       "</style>\n",
       "<table border=\"1\" class=\"dataframe\">\n",
       "  <thead>\n",
       "    <tr style=\"text-align: right;\">\n",
       "      <th></th>\n",
       "      <th>0</th>\n",
       "    </tr>\n",
       "  </thead>\n",
       "  <tbody>\n",
       "    <tr>\n",
       "      <th>0</th>\n",
       "      <td>2017-08-14 02:00:00</td>\n",
       "    </tr>\n",
       "    <tr>\n",
       "      <th>1</th>\n",
       "      <td>2017-08-21 02:00:00</td>\n",
       "    </tr>\n",
       "    <tr>\n",
       "      <th>2</th>\n",
       "      <td>2017-08-28 02:00:00</td>\n",
       "    </tr>\n",
       "    <tr>\n",
       "      <th>3</th>\n",
       "      <td>2017-09-04 02:00:00</td>\n",
       "    </tr>\n",
       "    <tr>\n",
       "      <th>4</th>\n",
       "      <td>2017-09-11 02:00:00</td>\n",
       "    </tr>\n",
       "    <tr>\n",
       "      <th>...</th>\n",
       "      <td>...</td>\n",
       "    </tr>\n",
       "    <tr>\n",
       "      <th>192</th>\n",
       "      <td>2021-04-19 02:00:00</td>\n",
       "    </tr>\n",
       "    <tr>\n",
       "      <th>193</th>\n",
       "      <td>2021-04-26 02:00:00</td>\n",
       "    </tr>\n",
       "    <tr>\n",
       "      <th>194</th>\n",
       "      <td>2021-05-03 02:00:00</td>\n",
       "    </tr>\n",
       "    <tr>\n",
       "      <th>195</th>\n",
       "      <td>2021-05-10 02:00:00</td>\n",
       "    </tr>\n",
       "    <tr>\n",
       "      <th>196</th>\n",
       "      <td>2021-05-17 02:00:00</td>\n",
       "    </tr>\n",
       "  </tbody>\n",
       "</table>\n",
       "<p>197 rows × 1 columns</p>\n",
       "</div>"
      ],
      "text/plain": [
       "                      0\n",
       "0   2017-08-14 02:00:00\n",
       "1   2017-08-21 02:00:00\n",
       "2   2017-08-28 02:00:00\n",
       "3   2017-09-04 02:00:00\n",
       "4   2017-09-11 02:00:00\n",
       "..                  ...\n",
       "192 2021-04-19 02:00:00\n",
       "193 2021-04-26 02:00:00\n",
       "194 2021-05-03 02:00:00\n",
       "195 2021-05-10 02:00:00\n",
       "196 2021-05-17 02:00:00\n",
       "\n",
       "[197 rows x 1 columns]"
      ]
     },
     "execution_count": 14,
     "metadata": {},
     "output_type": "execute_result"
    }
   ],
   "source": [
    "final_date_df"
   ]
  },
  {
   "cell_type": "code",
   "execution_count": 15,
   "id": "143d6351",
   "metadata": {},
   "outputs": [],
   "source": [
    "final_date_df.columns = ['date']"
   ]
  },
  {
   "cell_type": "code",
   "execution_count": 17,
   "id": "9965d784",
   "metadata": {},
   "outputs": [
    {
     "name": "stdout",
     "output_type": "stream",
     "text": [
      "                   date\n",
      "0   2017-08-14 02:00:00\n",
      "1   2017-08-21 02:00:00\n",
      "2   2017-08-28 02:00:00\n",
      "3   2017-09-04 02:00:00\n",
      "4   2017-09-11 02:00:00\n",
      "..                  ...\n",
      "192 2021-04-19 02:00:00\n",
      "193 2021-04-26 02:00:00\n",
      "194 2021-05-03 02:00:00\n",
      "195 2021-05-10 02:00:00\n",
      "196 2021-05-17 02:00:00\n",
      "\n",
      "[197 rows x 1 columns]\n"
     ]
    }
   ],
   "source": [
    "print(final_date_df)"
   ]
  },
  {
   "cell_type": "code",
   "execution_count": 18,
   "id": "160a5c28",
   "metadata": {},
   "outputs": [],
   "source": [
    "final_df = candles_df.join(final_date_df)"
   ]
  },
  {
   "cell_type": "code",
   "execution_count": 19,
   "id": "e7059107",
   "metadata": {},
   "outputs": [
    {
     "data": {
      "text/html": [
       "<div>\n",
       "<style scoped>\n",
       "    .dataframe tbody tr th:only-of-type {\n",
       "        vertical-align: middle;\n",
       "    }\n",
       "\n",
       "    .dataframe tbody tr th {\n",
       "        vertical-align: top;\n",
       "    }\n",
       "\n",
       "    .dataframe thead th {\n",
       "        text-align: right;\n",
       "    }\n",
       "</style>\n",
       "<table border=\"1\" class=\"dataframe\">\n",
       "  <thead>\n",
       "    <tr style=\"text-align: right;\">\n",
       "      <th></th>\n",
       "      <th>1</th>\n",
       "      <th>2</th>\n",
       "      <th>3</th>\n",
       "      <th>4</th>\n",
       "      <th>5</th>\n",
       "      <th>6</th>\n",
       "      <th>7</th>\n",
       "      <th>8</th>\n",
       "      <th>9</th>\n",
       "      <th>10</th>\n",
       "      <th>date</th>\n",
       "    </tr>\n",
       "  </thead>\n",
       "  <tbody>\n",
       "    <tr>\n",
       "      <th>0</th>\n",
       "      <td>4261.48000000</td>\n",
       "      <td>4485.39000000</td>\n",
       "      <td>3850.00000000</td>\n",
       "      <td>4086.29000000</td>\n",
       "      <td>2843.43142600</td>\n",
       "      <td>1503273599999</td>\n",
       "      <td>12021576.48265154</td>\n",
       "      <td>13134</td>\n",
       "      <td>2240.24924000</td>\n",
       "      <td>9482742.92094674</td>\n",
       "      <td>2017-08-14 02:00:00</td>\n",
       "    </tr>\n",
       "    <tr>\n",
       "      <th>1</th>\n",
       "      <td>4069.13000000</td>\n",
       "      <td>4453.91000000</td>\n",
       "      <td>3400.00000000</td>\n",
       "      <td>4310.01000000</td>\n",
       "      <td>4599.39662900</td>\n",
       "      <td>1503878399999</td>\n",
       "      <td>18978983.50987317</td>\n",
       "      <td>37826</td>\n",
       "      <td>1755.53026500</td>\n",
       "      <td>7173180.19744751</td>\n",
       "      <td>2017-08-21 02:00:00</td>\n",
       "    </tr>\n",
       "    <tr>\n",
       "      <th>2</th>\n",
       "      <td>4310.01000000</td>\n",
       "      <td>4939.19000000</td>\n",
       "      <td>4124.54000000</td>\n",
       "      <td>4509.08000000</td>\n",
       "      <td>4753.84337600</td>\n",
       "      <td>1504483199999</td>\n",
       "      <td>21581679.92866748</td>\n",
       "      <td>35717</td>\n",
       "      <td>1371.03442800</td>\n",
       "      <td>6237542.20612072</td>\n",
       "      <td>2017-08-28 02:00:00</td>\n",
       "    </tr>\n",
       "    <tr>\n",
       "      <th>3</th>\n",
       "      <td>4505.00000000</td>\n",
       "      <td>4788.59000000</td>\n",
       "      <td>3603.00000000</td>\n",
       "      <td>4130.37000000</td>\n",
       "      <td>6382.78774500</td>\n",
       "      <td>1505087999999</td>\n",
       "      <td>27307824.36893929</td>\n",
       "      <td>42372</td>\n",
       "      <td>2821.42273900</td>\n",
       "      <td>12120979.77068529</td>\n",
       "      <td>2017-09-04 02:00:00</td>\n",
       "    </tr>\n",
       "    <tr>\n",
       "      <th>4</th>\n",
       "      <td>4153.62000000</td>\n",
       "      <td>4394.59000000</td>\n",
       "      <td>2817.00000000</td>\n",
       "      <td>3699.99000000</td>\n",
       "      <td>8106.70512700</td>\n",
       "      <td>1505692799999</td>\n",
       "      <td>30026796.42861788</td>\n",
       "      <td>50423</td>\n",
       "      <td>3763.12845200</td>\n",
       "      <td>13956149.18844029</td>\n",
       "      <td>2017-09-11 02:00:00</td>\n",
       "    </tr>\n",
       "    <tr>\n",
       "      <th>...</th>\n",
       "      <td>...</td>\n",
       "      <td>...</td>\n",
       "      <td>...</td>\n",
       "      <td>...</td>\n",
       "      <td>...</td>\n",
       "      <td>...</td>\n",
       "      <td>...</td>\n",
       "      <td>...</td>\n",
       "      <td>...</td>\n",
       "      <td>...</td>\n",
       "      <td>...</td>\n",
       "    </tr>\n",
       "    <tr>\n",
       "      <th>192</th>\n",
       "      <td>56150.01000000</td>\n",
       "      <td>57526.81000000</td>\n",
       "      <td>46930.00000000</td>\n",
       "      <td>49066.77000000</td>\n",
       "      <td>568462.85096000</td>\n",
       "      <td>1619395199999</td>\n",
       "      <td>29936891043.81596597</td>\n",
       "      <td>14947615</td>\n",
       "      <td>274940.86132300</td>\n",
       "      <td>14487266259.92435533</td>\n",
       "      <td>2021-04-19 02:00:00</td>\n",
       "    </tr>\n",
       "    <tr>\n",
       "      <th>193</th>\n",
       "      <td>49066.76000000</td>\n",
       "      <td>58458.07000000</td>\n",
       "      <td>48753.44000000</td>\n",
       "      <td>56578.21000000</td>\n",
       "      <td>395983.45601300</td>\n",
       "      <td>1619999999999</td>\n",
       "      <td>21707164512.76862292</td>\n",
       "      <td>12719227</td>\n",
       "      <td>195298.61985100</td>\n",
       "      <td>10703998531.65657049</td>\n",
       "      <td>2021-04-26 02:00:00</td>\n",
       "    </tr>\n",
       "    <tr>\n",
       "      <th>194</th>\n",
       "      <td>56578.21000000</td>\n",
       "      <td>59500.00000000</td>\n",
       "      <td>52900.00000000</td>\n",
       "      <td>58240.84000000</td>\n",
       "      <td>504478.92630300</td>\n",
       "      <td>1620604799999</td>\n",
       "      <td>28725771451.78632514</td>\n",
       "      <td>16275966</td>\n",
       "      <td>248052.47061700</td>\n",
       "      <td>14129842033.20115189</td>\n",
       "      <td>2021-05-03 02:00:00</td>\n",
       "    </tr>\n",
       "    <tr>\n",
       "      <th>195</th>\n",
       "      <td>58240.83000000</td>\n",
       "      <td>59500.00000000</td>\n",
       "      <td>43825.39000000</td>\n",
       "      <td>46431.50000000</td>\n",
       "      <td>684880.14819700</td>\n",
       "      <td>1621209599999</td>\n",
       "      <td>35228801446.48219432</td>\n",
       "      <td>17778177</td>\n",
       "      <td>327220.27293100</td>\n",
       "      <td>16851047061.76013277</td>\n",
       "      <td>2021-05-10 02:00:00</td>\n",
       "    </tr>\n",
       "    <tr>\n",
       "      <th>196</th>\n",
       "      <td>46426.83000000</td>\n",
       "      <td>46686.00000000</td>\n",
       "      <td>30000.00000000</td>\n",
       "      <td>32786.74000000</td>\n",
       "      <td>1364744.36531300</td>\n",
       "      <td>1621814399999</td>\n",
       "      <td>53116396549.13622989</td>\n",
       "      <td>26593413</td>\n",
       "      <td>655954.37150500</td>\n",
       "      <td>25553542730.32767802</td>\n",
       "      <td>2021-05-17 02:00:00</td>\n",
       "    </tr>\n",
       "  </tbody>\n",
       "</table>\n",
       "<p>197 rows × 11 columns</p>\n",
       "</div>"
      ],
      "text/plain": [
       "                  1               2               3               4  \\\n",
       "0     4261.48000000   4485.39000000   3850.00000000   4086.29000000   \n",
       "1     4069.13000000   4453.91000000   3400.00000000   4310.01000000   \n",
       "2     4310.01000000   4939.19000000   4124.54000000   4509.08000000   \n",
       "3     4505.00000000   4788.59000000   3603.00000000   4130.37000000   \n",
       "4     4153.62000000   4394.59000000   2817.00000000   3699.99000000   \n",
       "..              ...             ...             ...             ...   \n",
       "192  56150.01000000  57526.81000000  46930.00000000  49066.77000000   \n",
       "193  49066.76000000  58458.07000000  48753.44000000  56578.21000000   \n",
       "194  56578.21000000  59500.00000000  52900.00000000  58240.84000000   \n",
       "195  58240.83000000  59500.00000000  43825.39000000  46431.50000000   \n",
       "196  46426.83000000  46686.00000000  30000.00000000  32786.74000000   \n",
       "\n",
       "                    5              6                     7         8  \\\n",
       "0       2843.43142600  1503273599999     12021576.48265154     13134   \n",
       "1       4599.39662900  1503878399999     18978983.50987317     37826   \n",
       "2       4753.84337600  1504483199999     21581679.92866748     35717   \n",
       "3       6382.78774500  1505087999999     27307824.36893929     42372   \n",
       "4       8106.70512700  1505692799999     30026796.42861788     50423   \n",
       "..                ...            ...                   ...       ...   \n",
       "192   568462.85096000  1619395199999  29936891043.81596597  14947615   \n",
       "193   395983.45601300  1619999999999  21707164512.76862292  12719227   \n",
       "194   504478.92630300  1620604799999  28725771451.78632514  16275966   \n",
       "195   684880.14819700  1621209599999  35228801446.48219432  17778177   \n",
       "196  1364744.36531300  1621814399999  53116396549.13622989  26593413   \n",
       "\n",
       "                   9                    10                date  \n",
       "0      2240.24924000      9482742.92094674 2017-08-14 02:00:00  \n",
       "1      1755.53026500      7173180.19744751 2017-08-21 02:00:00  \n",
       "2      1371.03442800      6237542.20612072 2017-08-28 02:00:00  \n",
       "3      2821.42273900     12120979.77068529 2017-09-04 02:00:00  \n",
       "4      3763.12845200     13956149.18844029 2017-09-11 02:00:00  \n",
       "..               ...                   ...                 ...  \n",
       "192  274940.86132300  14487266259.92435533 2021-04-19 02:00:00  \n",
       "193  195298.61985100  10703998531.65657049 2021-04-26 02:00:00  \n",
       "194  248052.47061700  14129842033.20115189 2021-05-03 02:00:00  \n",
       "195  327220.27293100  16851047061.76013277 2021-05-10 02:00:00  \n",
       "196  655954.37150500  25553542730.32767802 2021-05-17 02:00:00  \n",
       "\n",
       "[197 rows x 11 columns]"
      ]
     },
     "execution_count": 19,
     "metadata": {},
     "output_type": "execute_result"
    }
   ],
   "source": [
    "final_df"
   ]
  },
  {
   "cell_type": "code",
   "execution_count": null,
   "id": "8eb30b7b",
   "metadata": {},
   "outputs": [],
   "source": []
  }
 ],
 "metadata": {
  "celltoolbar": "Slideshow",
  "kernelspec": {
   "display_name": "Python 3",
   "language": "python",
   "name": "python3"
  },
  "language_info": {
   "codemirror_mode": {
    "name": "ipython",
    "version": 3
   },
   "file_extension": ".py",
   "mimetype": "text/x-python",
   "name": "python",
   "nbconvert_exporter": "python",
   "pygments_lexer": "ipython3",
   "version": "3.8.10"
  }
 },
 "nbformat": 4,
 "nbformat_minor": 5
}
