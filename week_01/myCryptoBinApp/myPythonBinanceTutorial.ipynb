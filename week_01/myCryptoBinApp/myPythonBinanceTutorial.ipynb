{
 "cells": [
  {
   "cell_type": "markdown",
   "id": "3e9c14c6",
   "metadata": {
    "slideshow": {
     "slide_type": "slide"
    }
   },
   "source": [
    "# Building a Python Binance App by Trial & Error"
   ]
  },
  {
   "cell_type": "markdown",
   "id": "38d1cab4",
   "metadata": {
    "slideshow": {
     "slide_type": "slide"
    }
   },
   "source": [
    "### Import required modules"
   ]
  },
  {
   "cell_type": "code",
   "execution_count": null,
   "id": "73cd57de",
   "metadata": {
    "slideshow": {
     "slide_type": "fragment"
    }
   },
   "outputs": [],
   "source": [
    "# from <your own py file without py> import <function name>\n",
    "from pandas import DataFrame as df\n",
    "from binance.client import Client\n",
    "from datetime import datetime\n",
    "import plotly.graph_objs as go\n",
    "import plotly.offline as py\n",
    "import llaves\n",
    "import requests\n",
    "import json\n",
    "\n"
   ]
  },
  {
   "cell_type": "markdown",
   "id": "4e1d2352",
   "metadata": {},
   "source": [
    "It is recessary to create a file named \"llaves.py\" in order to include your public and secret keys:\n",
    "\n",
    "> #pKey = 'abcdefghijklmnoprstuvwxyz'\n",
    "\n",
    "> #sKey = '0123456789'\n",
    "\n",
    "This values are created/obtained in the \"User Center >> API Management\" section in yor Binance account."
   ]
  },
  {
   "cell_type": "markdown",
   "id": "d524a6d6",
   "metadata": {},
   "source": [
    "### Initialize the client"
   ]
  },
  {
   "cell_type": "code",
   "execution_count": null,
   "id": "067f5ad6",
   "metadata": {},
   "outputs": [],
   "source": [
    "def binance_price():\n",
    "    client = Client(api_key=llaves.pKey, api_secret=llaves.sKey)\n",
    "    candles = client.get_klines(symbol='BTCUSDT', interval=Client.KLINE_INTERVAL_1WEEK)\n",
    "    candles_df = df(candles)\n",
    "    candles_df_date = candles_df[0]\n",
    "    final_date = []\n",
    "    for time in candles_df_date:\n",
    "        readable = datetime.fromtimestamp(int(time/1000))\n",
    "        final_date.append(readable)\n",
    "\n",
    "    candles_df.pop(0)\n",
    "    candles_df.pop(11)\n",
    "    final_date_df = df(final_date)\n",
    "    final_date_df.columns = ['date']\n",
    "    final_df = candles_df.join(final_date_df)\n",
    "    final_df.set_index('date', inplace=True)\n",
    "    final_df.columns = ['open', 'high', 'low', 'close', 'volume', 'close_time', 'asset_volume', 'trades_num', 'taker_buy_base', 'taker_buy_quote']\n",
    "    return final_df"
   ]
  },
  {
   "cell_type": "markdown",
   "id": "107bc9c1",
   "metadata": {},
   "source": [
    "### (Un)comment if you want to test the connection"
   ]
  },
  {
   "cell_type": "code",
   "execution_count": null,
   "id": "e2d1401d",
   "metadata": {},
   "outputs": [],
   "source": [
    "# client.ping()\n",
    "# time_res = client.get_server_time()\n",
    "# print(time_res)\n",
    "# status = client.get_system_status()\n",
    "# print(status)\n",
    "# info = client.get_exchange_info()\n",
    "# print(info)\n",
    "# info = client.get_symbol_info('BTCUSDT')\n",
    "# print(info)"
   ]
  },
  {
   "source": [
    "### Binance API method\n",
    "\n",
    "#### https://python-binance.readthedocs.io/en/latest/binance.html?highlight=client.get_klines#binance.client.Client.get_klines\n",
    "\n",
    "\n",
    "\n",
    "`[`\n",
    "\n",
    "`    [`\n",
    "\n",
    "`        1499040000000,      # Open time`\n",
    "\n",
    "`        \"0.01634790\",       # Open`\n",
    "\n",
    "`        \"0.80000000\",       # High`\n",
    "\n",
    "`        \"0.01575800\",       # Low`\n",
    "\n",
    "`        \"0.01577100\",       # Close`\n",
    "\n",
    "`        \"148976.11427815\",  # Volume`\n",
    "\n",
    "`        1499644799999,      # Close time`\n",
    "\n",
    "`        \"2434.19055334\",    # Quote asset volume`\n",
    "\n",
    "`        308,                # Number of trades`\n",
    "\n",
    "`        \"1756.87402397\",    # Taker buy base asset volume`\n",
    "\n",
    "`        \"28.46694368\",      # Taker buy quote asset volume`\n",
    "\n",
    "`        \"17928899.62484339\" # Can be ignored`\n",
    "\n",
    "`    ]`\n",
    "\n",
    "`]`"
   ],
   "cell_type": "markdown",
   "metadata": {}
  },
  {
   "cell_type": "code",
   "execution_count": null,
   "id": "32c5a3ad",
   "metadata": {},
   "outputs": [],
   "source": [
    "\n",
    "# print(candles_df)"
   ]
  },
  {
   "cell_type": "code",
   "execution_count": null,
   "id": "6fd3e06e",
   "metadata": {},
   "outputs": [],
   "source": [
    "# candles[-1]"
   ]
  },
  {
   "cell_type": "markdown",
   "id": "cf648f1f",
   "metadata": {},
   "source": [
    "We take the first column only. This column contans the timestamp in Binance format"
   ]
  },
  {
   "cell_type": "code",
   "execution_count": null,
   "id": "d9ca1c90",
   "metadata": {},
   "outputs": [],
   "source": [
    "# len(final_date)"
   ]
  },
  {
   "cell_type": "code",
   "execution_count": null,
   "id": "14217d13",
   "metadata": {},
   "outputs": [],
   "source": [
    "#final_date_df"
   ]
  },
  {
   "cell_type": "code",
   "execution_count": null,
   "id": "9965d784",
   "metadata": {},
   "outputs": [],
   "source": [
    "#print(final_date_df)"
   ]
  },
  {
   "source": [
    "### Rename columns according to documentation"
   ],
   "cell_type": "markdown",
   "metadata": {}
  },
  {
   "cell_type": "code",
   "execution_count": null,
   "metadata": {},
   "outputs": [],
   "source": []
  },
  {
   "cell_type": "code",
   "execution_count": null,
   "metadata": {},
   "outputs": [],
   "source": [
    "final_df.tail()"
   ]
  },
  {
   "cell_type": "code",
   "execution_count": null,
   "metadata": {},
   "outputs": [],
   "source": [
    "fig = go.Figure(data=[go.Table(\n",
    "    header=dict(values=[['<b>Date</b>'], ['<b>Open</b>'], ['<b>High</b>'], ['<b>Low</b>'],['<b>Close</b>'],['<b>Volume</b>']],\n",
    "                fill_color='paleturquoise',\n",
    "                align='left'),\n",
    "    cells=dict(values=[final_df.index[:], final_df.open, final_df.high, final_df.low, final_df.close, final_df.volume],\n",
    "               fill_color='lavender',\n",
    "               align='left'))\n",
    "])\n",
    "\n",
    "fig.show()"
   ]
  },
  {
   "cell_type": "code",
   "execution_count": null,
   "metadata": {},
   "outputs": [],
   "source": [
    "#pair_details = client.get_all_isolated_margin_symbols(timestamp = datetime.now(), recvWindow)"
   ]
  },
  {
   "cell_type": "code",
   "execution_count": null,
   "metadata": {},
   "outputs": [],
   "source": [
    "info = client.get_margin_price_index(symbol='BTCUSDT', isIsolated='TRUE')"
   ]
  },
  {
   "cell_type": "code",
   "execution_count": null,
   "metadata": {},
   "outputs": [],
   "source": [
    "info"
   ]
  },
  {
   "cell_type": "code",
   "execution_count": null,
   "metadata": {},
   "outputs": [],
   "source": [
    "# orders = client.get_all_margin_orders(symbol='BTCUSDT', limit=10, isIsolated='TRUE')"
   ]
  },
  {
   "cell_type": "code",
   "execution_count": null,
   "metadata": {},
   "outputs": [],
   "source": [
    "# orders = client.get_open_margin_orders(symbol='BTCUSDT', isIsolated='TRUE')"
   ]
  },
  {
   "cell_type": "code",
   "execution_count": null,
   "metadata": {
    "tags": []
   },
   "outputs": [],
   "source": [
    "def jprint(obj):\n",
    "    # create a formatted string of the Python JSON object\n",
    "    text = json.dumps(obj, sort_keys=True, indent=4)\n",
    "    print(text)\n",
    "\n",
    "parameters = {\n",
    "    \"symbol\": \"BTCUSDT\"\n",
    "    }"
   ]
  },
  {
   "cell_type": "code",
   "execution_count": null,
   "metadata": {},
   "outputs": [],
   "source": [
    "response1 = requests.get(\"https://api.binance.com/api/v3/ticker/price\")\n",
    "response2 = requests.get(\"https://api.binance.com/api/v3/ticker/24hr\")"
   ]
  },
  {
   "cell_type": "code",
   "execution_count": null,
   "metadata": {},
   "outputs": [],
   "source": [
    "print(response1.status_code)"
   ]
  },
  {
   "cell_type": "code",
   "execution_count": null,
   "metadata": {},
   "outputs": [],
   "source": [
    "print(response2.status_code)"
   ]
  },
  {
   "cell_type": "code",
   "execution_count": null,
   "metadata": {
    "tags": [
     "outputPrepend"
    ]
   },
   "outputs": [],
   "source": [
    "jprint(response1.json())\n"
   ]
  },
  {
   "cell_type": "code",
   "execution_count": null,
   "metadata": {
    "tags": [
     "outputPrepend"
    ]
   },
   "outputs": [],
   "source": [
    "jprint(response2.json())"
   ]
  },
  {
   "cell_type": "code",
   "execution_count": null,
   "metadata": {},
   "outputs": [],
   "source": [
    "time_res = client.get_server_time()\n",
    "status = client.get_system_status()\n",
    "exchange_info = client.get_exchange_info()\n",
    "symbol_info = client.get_symbol_info('BTCUSDT')\n",
    "depth = client.get_order_book(symbol='BTCUSDT')\n",
    "trades1 = client.get_recent_trades(symbol='BTCUSDT')\n",
    "trades2 = client.get_historical_trades(symbol='BTCUSDT')\n",
    "trades3 = client.get_aggregate_trades(symbol='BTCUSDT')"
   ]
  },
  {
   "cell_type": "code",
   "execution_count": null,
   "metadata": {},
   "outputs": [],
   "source": [
    "print(time_res)"
   ]
  },
  {
   "cell_type": "code",
   "execution_count": null,
   "metadata": {},
   "outputs": [],
   "source": [
    "print(status)"
   ]
  },
  {
   "cell_type": "code",
   "execution_count": null,
   "metadata": {},
   "outputs": [],
   "source": [
    "candles_h = client.get_klines(symbol='BTCUSDT', interval=Client.KLINE_INTERVAL_1HOUR)"
   ]
  },
  {
   "cell_type": "code",
   "execution_count": null,
   "metadata": {},
   "outputs": [],
   "source": [
    "candles_h_df = df(candles)"
   ]
  },
  {
   "cell_type": "code",
   "execution_count": null,
   "metadata": {},
   "outputs": [],
   "source": [
    "print(candles_df)"
   ]
  },
  {
   "cell_type": "code",
   "execution_count": null,
   "metadata": {},
   "outputs": [],
   "source": [
    "trades1_df = df(trades1)"
   ]
  },
  {
   "cell_type": "code",
   "execution_count": null,
   "metadata": {},
   "outputs": [],
   "source": [
    "print(trades1_df)"
   ]
  },
  {
   "cell_type": "code",
   "execution_count": null,
   "metadata": {},
   "outputs": [],
   "source": [
    "trades2_df = df(trades2)"
   ]
  },
  {
   "cell_type": "code",
   "execution_count": null,
   "metadata": {},
   "outputs": [],
   "source": [
    "print(trades2_df)"
   ]
  },
  {
   "cell_type": "code",
   "execution_count": null,
   "metadata": {},
   "outputs": [],
   "source": [
    "trades3_df = df(trades3)"
   ]
  },
  {
   "cell_type": "code",
   "execution_count": null,
   "metadata": {},
   "outputs": [],
   "source": [
    "print(trades3_df)"
   ]
  },
  {
   "cell_type": "code",
   "execution_count": null,
   "metadata": {},
   "outputs": [],
   "source": [
    "binance_price()"
   ]
  },
  {
   "cell_type": "code",
   "execution_count": null,
   "metadata": {},
   "outputs": [],
   "source": []
  }
 ],
 "metadata": {
  "celltoolbar": "Slideshow",
  "kernelspec": {
   "name": "python3810jvsc74a57bd0de7c35de9f8eb0dce2b2f1eb6e0916df6049b821dd9b99046271c1e8c4a8e395",
   "display_name": "Python 3.8.10 64-bit ('py4fi': conda)"
  },
  "language_info": {
   "codemirror_mode": {
    "name": "ipython",
    "version": 3
   },
   "file_extension": ".py",
   "mimetype": "text/x-python",
   "name": "python",
   "nbconvert_exporter": "python",
   "pygments_lexer": "ipython3",
   "version": "3.8.10"
  }
 },
 "nbformat": 4,
 "nbformat_minor": 5
}