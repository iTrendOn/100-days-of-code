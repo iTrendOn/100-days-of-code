{
 "cells": [
  {
   "cell_type": "markdown",
   "id": "3e9c14c6",
   "metadata": {
    "slideshow": {
     "slide_type": "slide"
    }
   },
   "source": [
    "# Building a Python Binance App by Trial & Error"
   ]
  },
  {
   "cell_type": "markdown",
   "id": "38d1cab4",
   "metadata": {
    "slideshow": {
     "slide_type": "slide"
    }
   },
   "source": [
    "### Import required modules"
   ]
  },
  {
   "cell_type": "code",
   "execution_count": 1,
   "id": "73cd57de",
   "metadata": {
    "slideshow": {
     "slide_type": "fragment"
    }
   },
   "outputs": [],
   "source": [
    "import datetime\n",
    "import pandas_datareader as pdr"
   ]
  },
  {
   "cell_type": "markdown",
   "id": "3c1c7652",
   "metadata": {
    "slideshow": {
     "slide_type": "slide"
    }
   },
   "source": [
    "### Set dates for data extraction (e.g.: Last 3 years)"
   ]
  },
  {
   "cell_type": "code",
   "execution_count": 2,
   "id": "b1f18c67",
   "metadata": {
    "slideshow": {
     "slide_type": "fragment"
    }
   },
   "outputs": [],
   "source": [
    "start = datetime.datetime(2018,5,20)\n",
    "end = datetime.datetime(2021,5,21)"
   ]
  },
  {
   "cell_type": "markdown",
   "id": "58b75afe",
   "metadata": {
    "slideshow": {
     "slide_type": "slide"
    }
   },
   "source": [
    "### Obtain data from Yahoo for two specific symbols/companies (Tesla & MicroStrategy)"
   ]
  },
  {
   "cell_type": "code",
   "execution_count": 3,
   "id": "30abdef4",
   "metadata": {
    "slideshow": {
     "slide_type": "fragment"
    }
   },
   "outputs": [],
   "source": [
    "TSLA = pdr.DataReader('TSLA', 'yahoo', start, end)\n",
    "MSTR = pdr.DataReader('MSTR', 'yahoo', start, end)"
   ]
  },
  {
   "cell_type": "markdown",
   "id": "e0e1b063",
   "metadata": {
    "slideshow": {
     "slide_type": "slide"
    }
   },
   "source": [
    "### Print statements for testing/debugging if extraction works or not\n",
    "### (Un)comment if required"
   ]
  },
  {
   "cell_type": "code",
   "execution_count": 4,
   "id": "c2132415",
   "metadata": {
    "slideshow": {
     "slide_type": "fragment"
    }
   },
   "outputs": [
    {
     "name": "stdout",
     "output_type": "stream",
     "text": [
      "                  High         Low        Open       Close      Volume  \\\n",
      "Date                                                                     \n",
      "2018-05-21   58.298000   56.259998   56.265999   56.897999  45913000.0   \n",
      "2018-05-22   57.599998   54.683998   57.551998   55.001999  44729000.0   \n",
      "2018-05-23   55.981998   54.799999   55.551998   55.813999  29925500.0   \n",
      "2018-05-24   56.222000   54.978001   55.680000   55.570000  20883500.0   \n",
      "2018-05-25   55.928001   55.122002   55.526001   55.770000  19375500.0   \n",
      "...                ...         ...         ...         ...         ...   \n",
      "2021-05-17  589.729980  561.200012  575.549988  576.830017  32390400.0   \n",
      "2021-05-18  596.250000  563.380005  568.000000  577.869995  36830600.0   \n",
      "2021-05-19  566.210022  546.979980  552.549988  563.460022  39578400.0   \n",
      "2021-05-20  588.849976  571.070007  575.000000  586.780029  30821100.0   \n",
      "2021-05-21  596.679993  580.000000  596.109985  580.880005  25943600.0   \n",
      "\n",
      "             Adj Close  \n",
      "Date                    \n",
      "2018-05-21   56.897999  \n",
      "2018-05-22   55.001999  \n",
      "2018-05-23   55.813999  \n",
      "2018-05-24   55.570000  \n",
      "2018-05-25   55.770000  \n",
      "...                ...  \n",
      "2021-05-17  576.830017  \n",
      "2021-05-18  577.869995  \n",
      "2021-05-19  563.460022  \n",
      "2021-05-20  586.780029  \n",
      "2021-05-21  580.880005  \n",
      "\n",
      "[757 rows x 6 columns]\n"
     ]
    }
   ],
   "source": [
    "print(TSLA)"
   ]
  },
  {
   "cell_type": "code",
   "execution_count": 5,
   "id": "209fbd46",
   "metadata": {
    "slideshow": {
     "slide_type": "slide"
    }
   },
   "outputs": [
    {
     "name": "stdout",
     "output_type": "stream",
     "text": [
      "                  High         Low        Open       Close   Volume  \\\n",
      "Date                                                                  \n",
      "2018-05-21  131.919998  129.009995  130.880005  130.179993    87800   \n",
      "2018-05-22  131.320007  128.449997  130.539993  129.750000    72500   \n",
      "2018-05-23  130.589996  128.740005  129.259995  130.100006    55200   \n",
      "2018-05-24  131.130005  128.720001  130.130005  130.949997    85200   \n",
      "2018-05-25  132.050003  129.839996  131.039993  130.720001    50200   \n",
      "...                ...         ...         ...         ...      ...   \n",
      "2021-05-17  499.510010  468.880005  484.000000  489.350006   804600   \n",
      "2021-05-18  504.260010  470.570007  488.910004  487.200012   598200   \n",
      "2021-05-19  458.489990  411.579987  422.850006  454.859985  1505400   \n",
      "2021-05-20  493.000000  457.279999  477.660004  472.660004   861400   \n",
      "2021-05-21  487.670013  447.769989  471.730011  450.519989   850300   \n",
      "\n",
      "             Adj Close  \n",
      "Date                    \n",
      "2018-05-21  130.179993  \n",
      "2018-05-22  129.750000  \n",
      "2018-05-23  130.100006  \n",
      "2018-05-24  130.949997  \n",
      "2018-05-25  130.720001  \n",
      "...                ...  \n",
      "2021-05-17  489.350006  \n",
      "2021-05-18  487.200012  \n",
      "2021-05-19  454.859985  \n",
      "2021-05-20  472.660004  \n",
      "2021-05-21  450.519989  \n",
      "\n",
      "[757 rows x 6 columns]\n"
     ]
    }
   ],
   "source": [
    "print(MSTR)"
   ]
  },
  {
   "cell_type": "code",
   "execution_count": null,
   "id": "4f93337a",
   "metadata": {},
   "outputs": [],
   "source": []
  }
 ],
 "metadata": {
  "celltoolbar": "Slideshow",
  "kernelspec": {
   "display_name": "Python 3",
   "language": "python",
   "name": "python3"
  },
  "language_info": {
   "codemirror_mode": {
    "name": "ipython",
    "version": 3
   },
   "file_extension": ".py",
   "mimetype": "text/x-python",
   "name": "python",
   "nbconvert_exporter": "python",
   "pygments_lexer": "ipython3",
   "version": "3.8.10"
  }
 },
 "nbformat": 4,
 "nbformat_minor": 5
}
