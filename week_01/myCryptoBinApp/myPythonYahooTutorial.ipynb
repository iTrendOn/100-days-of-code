{
 "cells": [
  {
   "cell_type": "markdown",
   "id": "3e9c14c6",
   "metadata": {
    "slideshow": {
     "slide_type": "slide"
    }
   },
   "source": [
    "# Building a Python Yahoo App by Trial & Error"
   ]
  },
  {
   "cell_type": "markdown",
   "id": "38d1cab4",
   "metadata": {
    "slideshow": {
     "slide_type": "slide"
    }
   },
   "source": [
    "### Import required modules"
   ]
  },
  {
   "cell_type": "code",
   "execution_count": 1,
   "id": "73cd57de",
   "metadata": {
    "slideshow": {
     "slide_type": "fragment"
    }
   },
   "outputs": [],
   "source": [
    "import datetime\n",
    "import pandas_datareader as pdr\n",
    "import plotly.graph_objs as go\n",
    "import plotly.offline as py"
   ]
  },
  {
   "cell_type": "markdown",
   "id": "3c1c7652",
   "metadata": {
    "slideshow": {
     "slide_type": "slide"
    }
   },
   "source": [
    "### Set dates for data extraction (e.g.: Last 3 years)"
   ]
  },
  {
   "cell_type": "code",
   "execution_count": 2,
   "id": "b1f18c67",
   "metadata": {
    "slideshow": {
     "slide_type": "fragment"
    }
   },
   "outputs": [],
   "source": [
    "start = datetime.datetime(2018,1,1)\n",
    "end = datetime.datetime(2021,5,22)"
   ]
  },
  {
   "cell_type": "markdown",
   "id": "58b75afe",
   "metadata": {
    "slideshow": {
     "slide_type": "slide"
    }
   },
   "source": [
    "### Obtain data from Yahoo for two specific symbols/companies (Tesla & MicroStrategy)"
   ]
  },
  {
   "cell_type": "code",
   "execution_count": 3,
   "id": "30abdef4",
   "metadata": {
    "slideshow": {
     "slide_type": "fragment"
    }
   },
   "outputs": [],
   "source": [
    "TSLA = pdr.DataReader('TSLA', 'yahoo', start, end)\n",
    "MSTR = pdr.DataReader('MSTR', 'yahoo', start, end)"
   ]
  },
  {
   "cell_type": "markdown",
   "id": "e0e1b063",
   "metadata": {
    "slideshow": {
     "slide_type": "slide"
    }
   },
   "source": [
    "### Print statements for testing/debugging if extraction works or not\n",
    "(Un)comment if required"
   ]
  },
  {
   "cell_type": "code",
   "execution_count": 4,
   "id": "c2132415",
   "metadata": {
    "slideshow": {
     "slide_type": "fragment"
    }
   },
   "outputs": [],
   "source": [
    "# print(TSLA)\n",
    "# print(MSTR)"
   ]
  },
  {
   "cell_type": "code",
   "execution_count": 5,
   "id": "209fbd46",
   "metadata": {
    "slideshow": {
     "slide_type": "slide"
    }
   },
   "outputs": [],
   "source": [
    "trace1 = go.Ohlc(\n",
    "    x = TSLA.index[:],\n",
    "    open = TSLA['Open'],\n",
    "    high = TSLA['High'],\n",
    "    low = TSLA['Low'],\n",
    "    close = TSLA['Close'],\n",
    "    name = 'TSLA',\n",
    "    increasing = dict(line=dict(color='green')),\n",
    "    decreasing = dict(line=dict(color='red')),\n",
    ")"
   ]
  },
  {
   "cell_type": "code",
   "execution_count": 6,
   "id": "4f93337a",
   "metadata": {},
   "outputs": [],
   "source": [
    "trace2 = go.Ohlc(\n",
    "    x = MSTR.index[:],\n",
    "    open = MSTR['Open'],\n",
    "    high = MSTR['High'],\n",
    "    low = MSTR['Low'],\n",
    "    close = MSTR['Close'],\n",
    "    name = 'MSTR',\n",
    "    increasing = dict(line=dict(color='green')),\n",
    "    decreasing = dict(line=dict(color='red')),\n",
    ")"
   ]
  },
  {
   "cell_type": "code",
   "execution_count": 7,
   "id": "34896dfd",
   "metadata": {},
   "outputs": [],
   "source": [
    "data = [trace1, trace2]"
   ]
  },
  {
   "cell_type": "code",
   "execution_count": 8,
   "id": "a98bc725",
   "metadata": {},
   "outputs": [],
   "source": [
    "layout = {\n",
    "    'title': 'Tesla vs. MicroStrategy',\n",
    "    'yaxis': {'title': 'Price in USD per stock'}\n",
    "}"
   ]
  },
  {
   "cell_type": "code",
   "execution_count": 9,
   "id": "cec181e6",
   "metadata": {},
   "outputs": [],
   "source": [
    "fig = dict(data = data, layout = layout)"
   ]
  },
  {
   "cell_type": "code",
   "execution_count": 10,
   "id": "0700dc66",
   "metadata": {},
   "outputs": [
    {
     "data": {
      "text/plain": [
       "'techstock.html'"
      ]
     },
     "execution_count": 10,
     "metadata": {},
     "output_type": "execute_result"
    }
   ],
   "source": [
    "py.plot(fig, filename = 'techstock.html')"
   ]
  }
 ],
 "metadata": {
  "celltoolbar": "Slideshow",
  "kernelspec": {
   "display_name": "Python 3",
   "language": "python",
   "name": "python3"
  },
  "language_info": {
   "codemirror_mode": {
    "name": "ipython",
    "version": 3
   },
   "file_extension": ".py",
   "mimetype": "text/x-python",
   "name": "python",
   "nbconvert_exporter": "python",
   "pygments_lexer": "ipython3",
   "version": "3.8.10"
  }
 },
 "nbformat": 4,
 "nbformat_minor": 5
}
