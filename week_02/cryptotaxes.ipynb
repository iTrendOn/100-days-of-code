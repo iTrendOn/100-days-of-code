{
 "metadata": {
  "language_info": {
   "codemirror_mode": {
    "name": "ipython",
    "version": 3
   },
   "file_extension": ".py",
   "mimetype": "text/x-python",
   "name": "python",
   "nbconvert_exporter": "python",
   "pygments_lexer": "ipython3",
   "version": "3.8.10"
  },
  "orig_nbformat": 2,
  "kernelspec": {
   "name": "python3810jvsc74a57bd0de7c35de9f8eb0dce2b2f1eb6e0916df6049b821dd9b99046271c1e8c4a8e395",
   "display_name": "Python 3.8.10 64-bit ('py4fi': conda)"
  }
 },
 "nbformat": 4,
 "nbformat_minor": 2,
 "cells": [
  {
   "source": [
    "Binance Cryptocurrency History Report for Taxes"
   ],
   "cell_type": "markdown",
   "metadata": {}
  },
  {
   "cell_type": "code",
   "execution_count": null,
   "metadata": {},
   "outputs": [],
   "source": [
    "import pandas as pd\n",
    "import numpy as np"
   ]
  },
  {
   "cell_type": "code",
   "execution_count": null,
   "metadata": {},
   "outputs": [],
   "source": [
    "df = pd.read_csv('binance-2020.csv', index_col=0)"
   ]
  },
  {
   "cell_type": "code",
   "execution_count": null,
   "metadata": {},
   "outputs": [],
   "source": [
    "df"
   ]
  },
  {
   "cell_type": "code",
   "execution_count": null,
   "metadata": {},
   "outputs": [],
   "source": [
    "df['Price'] = df['Price'].apply(lambda x: float(x.split()[0].replace(',', '')))\n",
    "\n",
    "result = df.Executed.str.extract('([^a-zA-Z]+)([a-zA-Z]+)', expand=True)\n",
    "result.columns = ['Executed_Amount', 'Executed_Symbol']\n",
    "df['Executed_Amount'] = result['Executed_Amount'].apply(lambda x: float(x.split()[0].replace(',', '')))\n",
    "df['Executed_Symbol'] = result['Executed_Symbol']\n",
    "\n",
    "\n",
    "result = df.Amount.str.extract('([^a-zA-Z]+)([a-zA-Z]+)', expand=True)\n",
    "result.columns = ['Amount_Amount', 'Amount_Symbol']\n",
    "df['Amount_Amount'] = result['Amount_Amount'].apply(lambda x: float(x.split()[0].replace(',', '')))\n",
    "df['Amount_Symbol'] = result['Amount_Symbol']\n",
    "\n",
    "\n",
    "result = df.Fee.str.extract('([^a-zA-Z]+)([a-zA-Z]+)', expand=True)\n",
    "result.columns = ['Fee_Amount', 'Fee_Symbol']\n",
    "df['Fee_Amount'] = result['Fee_Amount'].apply(lambda x: float(x.split()[0].replace(',', '')))\n",
    "df['Fee_Symbol'] = result['Fee_Symbol']"
   ]
  },
  {
   "cell_type": "code",
   "execution_count": null,
   "metadata": {},
   "outputs": [],
   "source": [
    "df"
   ]
  },
  {
   "cell_type": "code",
   "execution_count": null,
   "metadata": {},
   "outputs": [],
   "source": [
    "df = df.drop(['Executed', 'Amount', 'Fee'], axis = 1)"
   ]
  },
  {
   "cell_type": "code",
   "execution_count": null,
   "metadata": {},
   "outputs": [],
   "source": [
    "df"
   ]
  },
  {
   "cell_type": "code",
   "execution_count": null,
   "metadata": {},
   "outputs": [],
   "source": [
    "df.to_excel(\"binance.xlsx\")"
   ]
  },
  {
   "cell_type": "code",
   "execution_count": null,
   "metadata": {},
   "outputs": [],
   "source": [
    "df.to_csv(\"binance.csv\")"
   ]
  },
  {
   "cell_type": "code",
   "execution_count": null,
   "metadata": {},
   "outputs": [],
   "source": [
    "df.describe()"
   ]
  },
  {
   "cell_type": "code",
   "execution_count": null,
   "metadata": {},
   "outputs": [],
   "source": [
    "pd.pivot_table(df, index=[\"Pair\",\"Side\"], values=[\"Price\", \"Executed_Amount\", 'Amount_Amount', 'Fee_Amount'], aggfunc=np.sum)"
   ]
  }
 ]
}